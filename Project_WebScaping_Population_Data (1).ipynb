{
 "cells": [
  {
   "cell_type": "markdown",
   "id": "fc81189e",
   "metadata": {},
   "source": [
    "## Webscraping "
   ]
  },
  {
   "cell_type": "markdown",
   "id": "3b35c553",
   "metadata": {},
   "source": [
    "Using the <code> BeautifulSoup </code> to scrape data that is available in a table and storing the data into a <code>Pandas</code> dataframe and creating simple visualization using <code>Seaborn</code>"
   ]
  },
  {
   "cell_type": "markdown",
   "id": "31c3a97e",
   "metadata": {},
   "source": [
    "## Importing all necessary libraries"
   ]
  },
  {
   "cell_type": "code",
   "execution_count": null,
   "id": "c2c4871f",
   "metadata": {},
   "outputs": [],
   "source": [
    "import pandas as pd\n",
    "import requests\n",
    "from bs4 import BeautifulSoup\n",
    "import seaborn as sns"
   ]
  },
  {
   "cell_type": "markdown",
   "id": "32a47150",
   "metadata": {},
   "source": [
    "## Scraping data using BeautifulSoup"
   ]
  },
  {
   "cell_type": "code",
   "execution_count": null,
   "id": "2aff6ab0",
   "metadata": {},
   "outputs": [],
   "source": [
    "url = 'https://www.worldometers.info/world-population/'"
   ]
  },
  {
   "cell_type": "code",
   "execution_count": null,
   "id": "6c6fa6b3",
   "metadata": {},
   "outputs": [],
   "source": [
    "data = requests.get(url).text"
   ]
  },
  {
   "cell_type": "code",
   "execution_count": null,
   "id": "1560fff7",
   "metadata": {},
   "outputs": [],
   "source": [
    "soup = BeautifulSoup(data, 'html5lib')"
   ]
  },
  {
   "cell_type": "code",
   "execution_count": null,
   "id": "5514cc2b",
   "metadata": {},
   "outputs": [],
   "source": [
    "tables = soup.find_all('table')"
   ]
  },
  {
   "cell_type": "code",
   "execution_count": null,
   "id": "b055dccf",
   "metadata": {
    "scrolled": true
   },
   "outputs": [],
   "source": [
    "tables"
   ]
  },
  {
   "cell_type": "code",
   "execution_count": null,
   "id": "20ad9eb8",
   "metadata": {},
   "outputs": [],
   "source": [
    "for index , table in enumerate(tables):\n",
    "    if ('popbycountry' in str(table)):\n",
    "        table_index = index\n",
    "print(table_index)"
   ]
  },
  {
   "cell_type": "code",
   "execution_count": null,
   "id": "f522eb7a",
   "metadata": {},
   "outputs": [],
   "source": [
    "print(tables[table_index].prettify())"
   ]
  },
  {
   "cell_type": "markdown",
   "id": "29609819",
   "metadata": {},
   "source": [
    "## Storing the scraped data from the website into a <code>pandas</code> dataframe"
   ]
  },
  {
   "cell_type": "code",
   "execution_count": null,
   "id": "9b020a7a",
   "metadata": {
    "scrolled": false
   },
   "outputs": [],
   "source": [
    "population_data = pd.DataFrame(columns = ['Rank', 'Country', 'Population', 'Density', 'Fertility_Rate'])\n",
    "\n",
    "for row in tables[table_index].tbody.find_all('tr'):\n",
    "    col = row.find_all('td')\n",
    "    rank = col[0].text\n",
    "    country = col[1].text\n",
    "    population = col[2].text\n",
    "    density = col[5].text\n",
    "    fertility = col[8].text\n",
    "    \n",
    "    population_data = population_data.append({\"Rank\": rank, \"Country\": country, 'Population': population, 'Density': density, 'Fertility_Rate': fertility}, ignore_index = True)"
   ]
  },
  {
   "cell_type": "code",
   "execution_count": null,
   "id": "03914ace",
   "metadata": {},
   "outputs": [],
   "source": [
    "population_data"
   ]
  },
  {
   "cell_type": "code",
   "execution_count": null,
   "id": "4c9b15f8",
   "metadata": {},
   "outputs": [],
   "source": [
    "population_data.dtypes"
   ]
  },
  {
   "cell_type": "markdown",
   "id": "8546dbf3",
   "metadata": {},
   "source": [
    "## Cleaning data stored in the dataframe"
   ]
  },
  {
   "cell_type": "code",
   "execution_count": 184,
   "id": "c9e6cf83",
   "metadata": {},
   "outputs": [
    {
     "data": {
      "text/html": [
       "<div>\n",
       "<style scoped>\n",
       "    .dataframe tbody tr th:only-of-type {\n",
       "        vertical-align: middle;\n",
       "    }\n",
       "\n",
       "    .dataframe tbody tr th {\n",
       "        vertical-align: top;\n",
       "    }\n",
       "\n",
       "    .dataframe thead th {\n",
       "        text-align: right;\n",
       "    }\n",
       "</style>\n",
       "<table border=\"1\" class=\"dataframe\">\n",
       "  <thead>\n",
       "    <tr style=\"text-align: right;\">\n",
       "      <th></th>\n",
       "      <th>Rank</th>\n",
       "      <th>Country</th>\n",
       "      <th>Population</th>\n",
       "      <th>Density</th>\n",
       "      <th>Fertility_Rate</th>\n",
       "    </tr>\n",
       "  </thead>\n",
       "  <tbody>\n",
       "    <tr>\n",
       "      <th>0</th>\n",
       "      <td>1</td>\n",
       "      <td>China</td>\n",
       "      <td>1439323776</td>\n",
       "      <td>153</td>\n",
       "      <td>1.6900</td>\n",
       "    </tr>\n",
       "    <tr>\n",
       "      <th>1</th>\n",
       "      <td>2</td>\n",
       "      <td>India</td>\n",
       "      <td>1380004385</td>\n",
       "      <td>464</td>\n",
       "      <td>2.2402</td>\n",
       "    </tr>\n",
       "    <tr>\n",
       "      <th>2</th>\n",
       "      <td>3</td>\n",
       "      <td>United States</td>\n",
       "      <td>331002651</td>\n",
       "      <td>36</td>\n",
       "      <td>1.7764</td>\n",
       "    </tr>\n",
       "    <tr>\n",
       "      <th>3</th>\n",
       "      <td>4</td>\n",
       "      <td>Indonesia</td>\n",
       "      <td>273523615</td>\n",
       "      <td>151</td>\n",
       "      <td>2.3195</td>\n",
       "    </tr>\n",
       "    <tr>\n",
       "      <th>4</th>\n",
       "      <td>5</td>\n",
       "      <td>Pakistan</td>\n",
       "      <td>220892340</td>\n",
       "      <td>287</td>\n",
       "      <td>3.5500</td>\n",
       "    </tr>\n",
       "  </tbody>\n",
       "</table>\n",
       "</div>"
      ],
      "text/plain": [
       "   Rank        Country  Population  Density  Fertility_Rate\n",
       "0     1          China  1439323776      153          1.6900\n",
       "1     2          India  1380004385      464          2.2402\n",
       "2     3  United States   331002651       36          1.7764\n",
       "3     4      Indonesia   273523615      151          2.3195\n",
       "4     5       Pakistan   220892340      287          3.5500"
      ]
     },
     "execution_count": 184,
     "metadata": {},
     "output_type": "execute_result"
    }
   ],
   "source": [
    "population_data[\"Population\"] = population_data['Population'].replace(',|\\$',\"\")\n",
    "population_data.dropna(inplace=True)\n",
    "\n",
    "population_data = population_data[population_data['Population'] != \"\"]\n",
    "population_data.head()"
   ]
  },
  {
   "cell_type": "code",
   "execution_count": null,
   "id": "77257e2e",
   "metadata": {},
   "outputs": [],
   "source": [
    "population_data[\"Density\"] = population_data['Density'].replace(',|\\$',\"\")\n",
    "population_data.dropna(inplace=True)\n",
    "\n",
    "population_data = population_data[population_data['Density'] != \"\"]"
   ]
  },
  {
   "cell_type": "code",
   "execution_count": null,
   "id": "1e9e0ac6",
   "metadata": {},
   "outputs": [],
   "source": [
    "population_data[\"Fertility_Rate\"] = population_data['Fertility_Rate'].replace(',|\\$',\"\")\n",
    "population_data[\"Fertility_Rate\"] = population_data['Fertility_Rate'].replace('N.A.',\"NaN\")\n",
    "population_data[\"Fertility_Rate\"] = population_data['Fertility_Rate'].replace('NaN',\"0\")\n",
    "population_data.dropna(inplace=True)\n",
    "population_data = population_data[population_data['Fertility_Rate'] != \"\"]"
   ]
  },
  {
   "cell_type": "code",
   "execution_count": null,
   "id": "17ffe129",
   "metadata": {},
   "outputs": [],
   "source": [
    "population_data['Rank'] = pd.to_numeric(population_data['Rank'])\n",
    "population_data['Population'] = pd.to_numeric(population_data['Population'])\n",
    "population_data['Density'] = pd.to_numeric(population_data['Density'])\n",
    "population_data['Fertility_Rate'] = pd.to_numeric(population_data['Fertility_Rate'])"
   ]
  },
  {
   "cell_type": "markdown",
   "id": "732d2224",
   "metadata": {},
   "source": [
    "## Using visualization techniques of seaborn to visualize data to create simple barplots"
   ]
  },
  {
   "cell_type": "code",
   "execution_count": 179,
   "id": "527bec9e",
   "metadata": {},
   "outputs": [
    {
     "data": {
      "image/png": "[encoded data removed]",
      "text/plain": [
       "<Figure size 1440x720 with 1 Axes>"
      ]
     },
     "metadata": {},
     "output_type": "display_data"
    }
   ],
   "source": [
    "sns.set(rc = {'figure.figsize' : (20,10)})\n",
    "ax1 = sns.barplot(x='Country', y='Population', data=population_data.head(20))"
   ]
  },
  {
   "cell_type": "code",
   "execution_count": 180,
   "id": "bd865565",
   "metadata": {},
   "outputs": [
    {
     "data": {
      "text/html": [
       "<div>\n",
       "<style scoped>\n",
       "    .dataframe tbody tr th:only-of-type {\n",
       "        vertical-align: middle;\n",
       "    }\n",
       "\n",
       "    .dataframe tbody tr th {\n",
       "        vertical-align: top;\n",
       "    }\n",
       "\n",
       "    .dataframe thead th {\n",
       "        text-align: right;\n",
       "    }\n",
       "</style>\n",
       "<table border=\"1\" class=\"dataframe\">\n",
       "  <thead>\n",
       "    <tr style=\"text-align: right;\">\n",
       "      <th></th>\n",
       "      <th>Rank</th>\n",
       "      <th>Country</th>\n",
       "      <th>Population</th>\n",
       "      <th>Density</th>\n",
       "      <th>Fertility_Rate</th>\n",
       "    </tr>\n",
       "  </thead>\n",
       "  <tbody>\n",
       "    <tr>\n",
       "      <th>0</th>\n",
       "      <td>1</td>\n",
       "      <td>China</td>\n",
       "      <td>1439323776</td>\n",
       "      <td>153</td>\n",
       "      <td>1.6900</td>\n",
       "    </tr>\n",
       "    <tr>\n",
       "      <th>1</th>\n",
       "      <td>2</td>\n",
       "      <td>India</td>\n",
       "      <td>1380004385</td>\n",
       "      <td>464</td>\n",
       "      <td>2.2402</td>\n",
       "    </tr>\n",
       "    <tr>\n",
       "      <th>2</th>\n",
       "      <td>3</td>\n",
       "      <td>United States</td>\n",
       "      <td>331002651</td>\n",
       "      <td>36</td>\n",
       "      <td>1.7764</td>\n",
       "    </tr>\n",
       "    <tr>\n",
       "      <th>3</th>\n",
       "      <td>4</td>\n",
       "      <td>Indonesia</td>\n",
       "      <td>273523615</td>\n",
       "      <td>151</td>\n",
       "      <td>2.3195</td>\n",
       "    </tr>\n",
       "    <tr>\n",
       "      <th>4</th>\n",
       "      <td>5</td>\n",
       "      <td>Pakistan</td>\n",
       "      <td>220892340</td>\n",
       "      <td>287</td>\n",
       "      <td>3.5500</td>\n",
       "    </tr>\n",
       "    <tr>\n",
       "      <th>...</th>\n",
       "      <td>...</td>\n",
       "      <td>...</td>\n",
       "      <td>...</td>\n",
       "      <td>...</td>\n",
       "      <td>...</td>\n",
       "    </tr>\n",
       "    <tr>\n",
       "      <th>230</th>\n",
       "      <td>231</td>\n",
       "      <td>Montserrat</td>\n",
       "      <td>4992</td>\n",
       "      <td>50</td>\n",
       "      <td>0.0000</td>\n",
       "    </tr>\n",
       "    <tr>\n",
       "      <th>231</th>\n",
       "      <td>232</td>\n",
       "      <td>Falkland Islands</td>\n",
       "      <td>3480</td>\n",
       "      <td>0</td>\n",
       "      <td>0.0000</td>\n",
       "    </tr>\n",
       "    <tr>\n",
       "      <th>232</th>\n",
       "      <td>233</td>\n",
       "      <td>Niue</td>\n",
       "      <td>1626</td>\n",
       "      <td>6</td>\n",
       "      <td>0.0000</td>\n",
       "    </tr>\n",
       "    <tr>\n",
       "      <th>233</th>\n",
       "      <td>234</td>\n",
       "      <td>Tokelau</td>\n",
       "      <td>1357</td>\n",
       "      <td>136</td>\n",
       "      <td>0.0000</td>\n",
       "    </tr>\n",
       "    <tr>\n",
       "      <th>234</th>\n",
       "      <td>235</td>\n",
       "      <td>Holy See</td>\n",
       "      <td>801</td>\n",
       "      <td>2003</td>\n",
       "      <td>0.0000</td>\n",
       "    </tr>\n",
       "  </tbody>\n",
       "</table>\n",
       "<p>235 rows × 5 columns</p>\n",
       "</div>"
      ],
      "text/plain": [
       "     Rank           Country  Population  Density  Fertility_Rate\n",
       "0       1             China  1439323776      153          1.6900\n",
       "1       2             India  1380004385      464          2.2402\n",
       "2       3     United States   331002651       36          1.7764\n",
       "3       4         Indonesia   273523615      151          2.3195\n",
       "4       5          Pakistan   220892340      287          3.5500\n",
       "..    ...               ...         ...      ...             ...\n",
       "230   231        Montserrat        4992       50          0.0000\n",
       "231   232  Falkland Islands        3480        0          0.0000\n",
       "232   233              Niue        1626        6          0.0000\n",
       "233   234           Tokelau        1357      136          0.0000\n",
       "234   235          Holy See         801     2003          0.0000\n",
       "\n",
       "[235 rows x 5 columns]"
      ]
     },
     "execution_count": 180,
     "metadata": {},
     "output_type": "execute_result"
    }
   ],
   "source": [
    "population_data"
   ]
  },
  {
   "cell_type": "code",
   "execution_count": 181,
   "id": "e21fbfce",
   "metadata": {},
   "outputs": [
    {
     "data": {
      "image/png": "[encoded data removed]",
      "text/plain": [
       "<Figure size 720x720 with 1 Axes>"
      ]
     },
     "metadata": {},
     "output_type": "display_data"
    }
   ],
   "source": [
    "sns.set(rc = {'figure.figsize' : (10,10)})\n",
    "ax2 = sns.scatterplot(x='Density', y='Fertility_Rate', data=population_data.head(100))"
   ]
  },
  {
   "cell_type": "code",
   "execution_count": 182,
   "id": "ce2a92f0",
   "metadata": {},
   "outputs": [
    {
     "data": {
      "image/png": "[encoded data removed]",
      "text/plain": [
       "<Figure size 1440x432 with 1 Axes>"
      ]
     },
     "metadata": {},
     "output_type": "display_data"
    }
   ],
   "source": [
    "sns.set(rc = {'figure.figsize' : (20,6)})\n",
    "ax1 = sns.barplot(x='Country', y='Density', data=population_data.head(20))"
   ]
  },
  {
   "cell_type": "code",
   "execution_count": 183,
   "id": "fcb232a7",
   "metadata": {
    "scrolled": true
   },
   "outputs": [
    {
     "data": {
      "image/png": "[encoded data removed]",
      "text/plain": [
       "<Figure size 1440x432 with 1 Axes>"
      ]
     },
     "metadata": {},
     "output_type": "display_data"
    }
   ],
   "source": [
    "sns.set(rc = {'figure.figsize' : (20,6)})\n",
    "ax2 = sns.barplot(x='Country', y='Fertility_Rate', data=population_data.head(20))"
   ]
  },
  {
   "cell_type": "code",
   "execution_count": null,
   "id": "be83cc77",
   "metadata": {},
   "outputs": [],
   "source": []
  }
 ],
 "metadata": {
  "kernelspec": {
   "display_name": "Python 3",
   "language": "python",
   "name": "python3"
  },
  "language_info": {
   "codemirror_mode": {
    "name": "ipython",
    "version": 3
   },
   "file_extension": ".py",
   "mimetype": "text/x-python",
   "name": "python",
   "nbconvert_exporter": "python",
   "pygments_lexer": "ipython3",
   "version": "3.8.8"
  }
 },
 "nbformat": 4,
 "nbformat_minor": 5
}
